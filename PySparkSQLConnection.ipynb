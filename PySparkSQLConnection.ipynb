{
 "cells": [
  {
   "cell_type": "code",
   "execution_count": 128,
   "metadata": {},
   "outputs": [],
   "source": [
    "import findspark\n",
    "findspark.init()\n",
    "from pyspark.sql import SparkSession\n",
    "from pyspark import SparkConf, SparkContext \n",
    "\n",
    "spark = SparkSession.builder \\\n",
    "    .appName(\"PySpark MySQL Connection\") \\\n",
    "    .config(\"spark.jars\", \"/Users/iris/Downloads/mysql-connector-java-8.0.23.jar\") \\\n",
    "    .config(\"spark.driver.memory\", \"4g\") \\\n",
    "    .getOrCreate()\n",
    "    "
   ]
  },
  {
   "cell_type": "code",
   "execution_count": 129,
   "metadata": {},
   "outputs": [],
   "source": [
    "spark.stop()"
   ]
  },
  {
   "cell_type": "code",
   "execution_count": 40,
   "metadata": {},
   "outputs": [],
   "source": [
    "# spark.conf.set(\"spark.executor.heartbeatInterval\", \"200000\") \\\n",
    "#     .set(\"spark.network.timeout\", \"300000\")"
   ]
  },
  {
   "cell_type": "code",
   "execution_count": 41,
   "metadata": {},
   "outputs": [],
   "source": [
    "# CDW_SAPP_CUSTOMER.JSON: This file has the existing customer details.\n",
    "# CDW_SAPP_CREDITCARD.JSON: This file contains all credit card transaction information.\n",
    "# CDW_SAPP_BRANCH.JSON: Each branch’s information and details are recorded in this file. "
   ]
  },
  {
   "cell_type": "code",
   "execution_count": 125,
   "metadata": {},
   "outputs": [],
   "source": [
    "path_customer = './data/cdw_sapp_custmer.json'\n",
    "path_credit = './data/cdw_sapp_credit.json'\n",
    "path_branch = './data/cdw_sapp_branch.json'\n",
    "loan_endpoint = 'https://raw.githubusercontent.com/platformps/LoanDataset/main/loan_data.json'"
   ]
  },
  {
   "cell_type": "code",
   "execution_count": 43,
   "metadata": {},
   "outputs": [],
   "source": [
    "branch = spark.read.json(path_branch)\n",
    "credit = spark.read.json(path_credit)\n",
    "customer = spark.read.json(path_customer)\n"
   ]
  },
  {
   "cell_type": "code",
   "execution_count": 44,
   "metadata": {},
   "outputs": [
    {
     "name": "stdout",
     "output_type": "stream",
     "text": [
      "+-----------------+-----------+------------+------------+------------+-----------------+----------+--------------------+\n",
      "|      BRANCH_CITY|BRANCH_CODE| BRANCH_NAME|BRANCH_PHONE|BRANCH_STATE|    BRANCH_STREET|BRANCH_ZIP|        LAST_UPDATED|\n",
      "+-----------------+-----------+------------+------------+------------+-----------------+----------+--------------------+\n",
      "|        Lakeville|          1|Example Bank|  1234565276|          MN|     Bridle Court|     55044|2018-04-18T16:51:...|\n",
      "|          Huntley|          2|Example Bank|  1234618993|          IL|Washington Street|     60142|2018-04-18T16:51:...|\n",
      "|SouthRichmondHill|          3|Example Bank|  1234985926|          NY|    Warren Street|     11419|2018-04-18T16:51:...|\n",
      "+-----------------+-----------+------------+------------+------------+-----------------+----------+--------------------+\n",
      "only showing top 3 rows\n",
      "\n"
     ]
    }
   ],
   "source": [
    "branch.show(3)"
   ]
  },
  {
   "cell_type": "code",
   "execution_count": 45,
   "metadata": {},
   "outputs": [
    {
     "name": "stdout",
     "output_type": "stream",
     "text": [
      "+-----------+----------------+---------+---+-----+--------------+----------------+-----------------+----+\n",
      "|BRANCH_CODE|  CREDIT_CARD_NO| CUST_SSN|DAY|MONTH|TRANSACTION_ID|TRANSACTION_TYPE|TRANSACTION_VALUE|YEAR|\n",
      "+-----------+----------------+---------+---+-----+--------------+----------------+-----------------+----+\n",
      "|        114|4210653349028689|123459988| 14|    2|             1|       Education|             78.9|2018|\n",
      "|         35|4210653349028689|123459988| 20|    3|             2|   Entertainment|            14.24|2018|\n",
      "|        160|4210653349028689|123459988|  8|    7|             3|         Grocery|             56.7|2018|\n",
      "+-----------+----------------+---------+---+-----+--------------+----------------+-----------------+----+\n",
      "only showing top 3 rows\n",
      "\n"
     ]
    }
   ],
   "source": [
    "credit.show(3)"
   ]
  },
  {
   "cell_type": "code",
   "execution_count": 46,
   "metadata": {},
   "outputs": [
    {
     "name": "stdout",
     "output_type": "stream",
     "text": [
      "+------+----------------+------------+-------------+-------------------+----------+----------+--------+----------+---------+--------------------+-----------+---------+-----------------+\n",
      "|APT_NO|  CREDIT_CARD_NO|   CUST_CITY| CUST_COUNTRY|         CUST_EMAIL|CUST_PHONE|CUST_STATE|CUST_ZIP|FIRST_NAME|LAST_NAME|        LAST_UPDATED|MIDDLE_NAME|      SSN|      STREET_NAME|\n",
      "+------+----------------+------------+-------------+-------------------+----------+----------+--------+----------+---------+--------------------+-----------+---------+-----------------+\n",
      "|   656|4210653310061055|     Natchez|United States|AHooper@example.com|   1237818|        MS|   39120|      Alec|   Hooper|2018-04-21T12:49:...|         Wm|123456100|Main Street North|\n",
      "|   829|4210653310102868|Wethersfield|United States|EHolman@example.com|   1238933|        CT|   06109|      Etta|   Holman|2018-04-21T12:49:...|    Brendan|123453023|    Redwood Drive|\n",
      "|   683|4210653310116272|     Huntley|United States|WDunham@example.com|   1243018|        IL|   60142|    Wilber|   Dunham|2018-04-21T12:49:...|   Ezequiel|123454487| 12th Street East|\n",
      "+------+----------------+------------+-------------+-------------------+----------+----------+--------+----------+---------+--------------------+-----------+---------+-----------------+\n",
      "only showing top 3 rows\n",
      "\n"
     ]
    }
   ],
   "source": [
    "customer.show(3)"
   ]
  },
  {
   "cell_type": "code",
   "execution_count": 47,
   "metadata": {},
   "outputs": [],
   "source": [
    "from pyspark.sql.functions import format_string, substring, lpad, concat, initcap, lower, concat_ws\n",
    "from pyspark.sql.types import IntegerType, TimestampType, StringType"
   ]
  },
  {
   "cell_type": "code",
   "execution_count": 48,
   "metadata": {},
   "outputs": [
    {
     "name": "stdout",
     "output_type": "stream",
     "text": [
      "root\n",
      " |-- APT_NO: string (nullable = true)\n",
      " |-- CREDIT_CARD_NO: string (nullable = true)\n",
      " |-- CUST_CITY: string (nullable = true)\n",
      " |-- CUST_COUNTRY: string (nullable = true)\n",
      " |-- CUST_EMAIL: string (nullable = true)\n",
      " |-- CUST_PHONE: long (nullable = true)\n",
      " |-- CUST_STATE: string (nullable = true)\n",
      " |-- CUST_ZIP: string (nullable = true)\n",
      " |-- FIRST_NAME: string (nullable = true)\n",
      " |-- LAST_NAME: string (nullable = true)\n",
      " |-- LAST_UPDATED: string (nullable = true)\n",
      " |-- MIDDLE_NAME: string (nullable = true)\n",
      " |-- SSN: long (nullable = true)\n",
      " |-- STREET_NAME: string (nullable = true)\n",
      "\n"
     ]
    }
   ],
   "source": [
    "customer.printSchema()"
   ]
  },
  {
   "cell_type": "code",
   "execution_count": 49,
   "metadata": {},
   "outputs": [],
   "source": [
    "# CUST_PHONE\tChange the format of phone number to (XXX)XXX-XXXX\n",
    "# STREET_NAME,APT_NO\tConcatenate Apartment no and Street name of customer's Residence with comma as a seperator (Street, Apartment)\n",
    "# LAST_NAME\tConvert the Last Name in Title Case\n",
    "# MIDDLE_NAME\tConvert the middle name in lower case\n",
    "# FIRST_NAME\tConvert the Name to Title Case"
   ]
  },
  {
   "cell_type": "code",
   "execution_count": 50,
   "metadata": {},
   "outputs": [],
   "source": [
    "# CUST_PHONE\tVARCHAR\n",
    "# FULL_STREET_ADDRESS\tVARCHAR\n",
    "# LAST_NAME\tVARCHAR\n",
    "# MIDDLE_NAME\tVARCHAR\n",
    "# FIRST_NAME\tVARCHAR\n",
    "# SSN\tINT\n",
    "# CUST_CITY\tVARCHAR\n",
    "# CUST_STATE\tVARCHAR\n",
    "# CUST_COUNTRY\tVARCHAR\n",
    "# CUST_ZIP\tINT\n",
    "# CUST_EMAIL\tVARCHAR\n",
    "# LAST_UPDATED\tTIMESTAMP\n",
    "# Credit_card_no\tVARCHAR"
   ]
  },
  {
   "cell_type": "code",
   "execution_count": 51,
   "metadata": {},
   "outputs": [],
   "source": [
    "# initcap\n",
    "# lower\n",
    "# format_string\n",
    "from pyspark.sql.functions import col, concat, lit\n",
    "# df = df.withColumn(\"column_join\", concat(col(\"column_1\"), lit(\"-\"), col(\"column_2\"), lit(\"-\"), col(\"column_3\")))\n",
    "customer_df = customer \\\n",
    "              .withColumn(\"FIRST_NAME\",\n",
    "                          initcap(customer[\"FIRST_NAME\"])) \\\n",
    "              .withColumn(\"MIDDLE_NAME\",\n",
    "                          lower(customer[\"MIDDLE_NAME\"])) \\\n",
    "              .withColumn(\"LAST_NAME\",\n",
    "                          initcap(customer[\"LAST_NAME\"])) \\\n",
    "              .withColumn(\"CUST_PHONE\",\n",
    "                          format_string(\"(000)%s-%s\", substring(\"CUST_PHONE\", 1, 3), substring(\"CUST_PHONE\", 4, 7))) \\\n",
    "              .withColumn('FULL_STREET_ADDRESS', \n",
    "                          concat(customer['APT_NO'], lit(','), customer['STREET_NAME'])) \\\n",
    "              .withColumn('SSN', \n",
    "                          customer['SSN'].cast(IntegerType())) \\\n",
    "              .withColumn('CUST_ZIP', \n",
    "                          customer['CUST_ZIP'].cast(IntegerType())) \\\n",
    "              .withColumn('LAST_UPDATED', \n",
    "                          customer['LAST_UPDATED'].cast(TimestampType()))\n"
   ]
  },
  {
   "cell_type": "code",
   "execution_count": 52,
   "metadata": {},
   "outputs": [
    {
     "name": "stdout",
     "output_type": "stream",
     "text": [
      "+------+----------------+------------+-------------+-------------------+-------------+----------+--------+----------+---------+-------------------+-----------+---------+-----------------+--------------------+\n",
      "|APT_NO|  CREDIT_CARD_NO|   CUST_CITY| CUST_COUNTRY|         CUST_EMAIL|   CUST_PHONE|CUST_STATE|CUST_ZIP|FIRST_NAME|LAST_NAME|       LAST_UPDATED|MIDDLE_NAME|      SSN|      STREET_NAME| FULL_STREET_ADDRESS|\n",
      "+------+----------------+------------+-------------+-------------------+-------------+----------+--------+----------+---------+-------------------+-----------+---------+-----------------+--------------------+\n",
      "|   656|4210653310061055|     Natchez|United States|AHooper@example.com|(000)123-7818|        MS|   39120|      Alec|   Hooper|2018-04-21 09:49:02|         wm|123456100|Main Street North|656,Main Street N...|\n",
      "|   829|4210653310102868|Wethersfield|United States|EHolman@example.com|(000)123-8933|        CT|    6109|      Etta|   Holman|2018-04-21 09:49:02|    brendan|123453023|    Redwood Drive|   829,Redwood Drive|\n",
      "|   683|4210653310116272|     Huntley|United States|WDunham@example.com|(000)124-3018|        IL|   60142|    Wilber|   Dunham|2018-04-21 09:49:02|   ezequiel|123454487| 12th Street East|683,12th Street East|\n",
      "+------+----------------+------------+-------------+-------------------+-------------+----------+--------+----------+---------+-------------------+-----------+---------+-----------------+--------------------+\n",
      "only showing top 3 rows\n",
      "\n"
     ]
    }
   ],
   "source": [
    "customer_df.show(3)"
   ]
  },
  {
   "cell_type": "code",
   "execution_count": 53,
   "metadata": {},
   "outputs": [
    {
     "name": "stdout",
     "output_type": "stream",
     "text": [
      "+----------------+------------+-------------+--------------------+-------------+----------+--------+----------+---------+-------------------+-----------+---------+--------------------+\n",
      "|  CREDIT_CARD_NO|   CUST_CITY| CUST_COUNTRY|          CUST_EMAIL|   CUST_PHONE|CUST_STATE|CUST_ZIP|FIRST_NAME|LAST_NAME|       LAST_UPDATED|MIDDLE_NAME|      SSN| FULL_STREET_ADDRESS|\n",
      "+----------------+------------+-------------+--------------------+-------------+----------+--------+----------+---------+-------------------+-----------+---------+--------------------+\n",
      "|4210653310061055|     Natchez|United States| AHooper@example.com|(000)123-7818|        MS|   39120|      Alec|   Hooper|2018-04-21 09:49:02|         wm|123456100|656,Main Street N...|\n",
      "|4210653310102868|Wethersfield|United States| EHolman@example.com|(000)123-8933|        CT|    6109|      Etta|   Holman|2018-04-21 09:49:02|    brendan|123453023|   829,Redwood Drive|\n",
      "|4210653310116272|     Huntley|United States| WDunham@example.com|(000)124-3018|        IL|   60142|    Wilber|   Dunham|2018-04-21 09:49:02|   ezequiel|123454487|683,12th Street East|\n",
      "|4210653310195948|   NewBerlin|United States|  EHardy@example.com|(000)124-3215|        WI|   53151|   Eugenio|    Hardy|2018-04-21 09:49:02|      trina|123459758|253,Country Club ...|\n",
      "|4210653310356919|      ElPaso|United States|  WAyers@example.com|(000)124-2074|        TX|   79930|   Wilfred|    Ayers|2018-04-21 09:49:02|        may|123454431|  301,Madison Street|\n",
      "|4210653310395982|NorthOlmsted|United States|BWoodard@example.com|(000)124-2570|        OH|   44070|      Beau|  Woodard|2018-04-21 09:49:02|    ambrose|123454202|    3,Colonial Drive|\n",
      "|4210653310400536|      Vienna|United States|   SKemp@example.com|(000)123-9685|        VA|   22180|    Sheila|     Kemp|2018-04-21 09:49:02|      larry|123451799|   84,Belmont Avenue|\n",
      "|4210653310459911|      Duarte|United States| WHurley@example.com|(000)123-8213|        CA|   91010|     Wendy|   Hurley|2018-04-21 09:49:02|        ora|123453875|    728,Oxford Court|\n",
      "|4210653310773972|      Owosso|United States|AGilmore@example.com|(000)124-0689|        MI|   48867|      Alec|  Gilmore|2018-04-21 09:49:02|     tracie|123457511|    81,Forest Street|\n",
      "|4210653310794854|        Zion|United States|    BLau@example.com|(000)123-5222|        IL|   60099|    Barbra|      Lau|2018-04-21 09:49:02|    mitchel|123457464|    561,Court Street|\n",
      "|4210653310817373|  Youngstown|United States|EThomson@example.com|(000)124-1363|        OH|   44512|   Edmundo|  Thomson|2018-04-21 09:49:02|      denny|123457639|   622,Cypress Court|\n",
      "|4210653310844617| Summerville|United States| ETruong@example.com|(000)123-6228|        SC|   29483|      Elsa|   Truong|2018-04-21 09:49:02|   isabelle|123453242| 924,8th Street West|\n",
      "|4210653311015303|      ElPaso|United States|HMckinney@example...|(000)123-8165|        TX|   79930|     Homer| Mckinney|2018-04-21 09:49:02|      henry|123454339|     611,East Avenue|\n",
      "|4210653311215039|      Fenton|United States|   RKidd@example.com|(000)123-4730|        MI|   48430|      Rita|     Kidd|2018-04-21 09:49:02|     rickey|123454537|        680,Route 44|\n",
      "|4210653311229354|  Grandville|United States|ABallard@example.com|(000)124-2113|        MI|   49418|    Amalia|  Ballard|2018-04-21 09:49:02|  heriberto|123452373|    71,Warren Street|\n",
      "|4210653311652836|    YubaCity|United States| PThomas@example.com|(000)123-9888|        CA|   95993|     Patty|   Thomas|2018-04-21 09:49:02|   angelita|123455343|    195,Jones Street|\n",
      "|4210653311707126|   CapeCoral|United States| JMorrow@example.com|(000)124-0158|        FL|   33904|  Josefina|   Morrow|2018-04-21 09:49:02|   dorothea|123451533|      500,New Street|\n",
      "|4210653311730764|  Brookfield|United States|NAndrews@example.com|(000)124-1408|        WI|   53045|    Nelson|  Andrews|2018-04-21 09:49:02|  jefferson|123459278| 989,Division Street|\n",
      "|4210653311898082|    Richmond|United States|MSchneider@exampl...|(000)123-8390|        VA|   23223|    Miquel|Schneider|2018-04-21 09:49:02|     maximo|123456915|    810,Maple Street|\n",
      "|4210653312021765| WestChester|United States|PTidwell@example.com|(000)123-5067|        PA|   19380|    Parker|  Tidwell|2018-04-21 09:49:02|    arnulfo|123453807|      649,Eagle Road|\n",
      "+----------------+------------+-------------+--------------------+-------------+----------+--------+----------+---------+-------------------+-----------+---------+--------------------+\n",
      "only showing top 20 rows\n",
      "\n"
     ]
    }
   ],
   "source": [
    "columns_to_drop = ['STREET_NAME','APT_NO']\n",
    "customer_df = customer_df.drop(*columns_to_drop)\n",
    "customer_df.show()\n"
   ]
  },
  {
   "cell_type": "code",
   "execution_count": 54,
   "metadata": {},
   "outputs": [
    {
     "name": "stdout",
     "output_type": "stream",
     "text": [
      "root\n",
      " |-- CREDIT_CARD_NO: string (nullable = true)\n",
      " |-- CUST_CITY: string (nullable = true)\n",
      " |-- CUST_COUNTRY: string (nullable = true)\n",
      " |-- CUST_EMAIL: string (nullable = true)\n",
      " |-- CUST_PHONE: string (nullable = false)\n",
      " |-- CUST_STATE: string (nullable = true)\n",
      " |-- CUST_ZIP: integer (nullable = true)\n",
      " |-- FIRST_NAME: string (nullable = true)\n",
      " |-- LAST_NAME: string (nullable = true)\n",
      " |-- LAST_UPDATED: timestamp (nullable = true)\n",
      " |-- MIDDLE_NAME: string (nullable = true)\n",
      " |-- SSN: integer (nullable = true)\n",
      " |-- FULL_STREET_ADDRESS: string (nullable = true)\n",
      "\n"
     ]
    }
   ],
   "source": [
    "customer_df.printSchema()"
   ]
  },
  {
   "cell_type": "code",
   "execution_count": 55,
   "metadata": {},
   "outputs": [
    {
     "name": "stdout",
     "output_type": "stream",
     "text": [
      "+-----------------+-----------+------------+------------+------------+-------------------+----------+--------------------+\n",
      "|      BRANCH_CITY|BRANCH_CODE| BRANCH_NAME|BRANCH_PHONE|BRANCH_STATE|      BRANCH_STREET|BRANCH_ZIP|        LAST_UPDATED|\n",
      "+-----------------+-----------+------------+------------+------------+-------------------+----------+--------------------+\n",
      "|        Lakeville|          1|Example Bank|  1234565276|          MN|       Bridle Court|     55044|2018-04-18T16:51:...|\n",
      "|          Huntley|          2|Example Bank|  1234618993|          IL|  Washington Street|     60142|2018-04-18T16:51:...|\n",
      "|SouthRichmondHill|          3|Example Bank|  1234985926|          NY|      Warren Street|     11419|2018-04-18T16:51:...|\n",
      "|       Middleburg|          4|Example Bank|  1234663064|          FL|   Cleveland Street|     32068|2018-04-18T16:51:...|\n",
      "|    KingOfPrussia|          5|Example Bank|  1234849701|          PA|        14th Street|     19406|2018-04-18T16:51:...|\n",
      "|         Paterson|          7|Example Bank|  1234144890|          NJ|   Jefferson Street|      7501|2018-04-18T16:51:...|\n",
      "|        Pittsford|          8|Example Bank|  1234678272|          NY|           B Street|     14534|2018-04-18T16:51:...|\n",
      "|     Wethersfield|          9|Example Bank|  1234675219|          CT|    Jefferson Court|      6109|2018-04-18T16:51:...|\n",
      "|     NorthOlmsted|         10|Example Bank|  1234145047|          OH|     Cambridge Road|     44070|2018-04-18T16:51:...|\n",
      "|     Hillsborough|         11|Example Bank|  1234366354|          NJ|    3rd Street West|      8844|2018-04-18T16:51:...|\n",
      "|   MadisonHeights|         12|Example Bank|  1234867175|          MI|          Mill Road|     48071|2018-04-18T16:51:...|\n",
      "|           Oviedo|         14|Example Bank|  1234938460|          FL|  Washington Street|     32765|2018-04-18T16:51:...|\n",
      "|    Mechanicsburg|         15|Example Bank|  1234462043|          PA|    Chestnut Street|     17050|2018-04-18T16:51:...|\n",
      "|        Plainview|         16|Example Bank|  1234857525|          NY|       Monroe Drive|     11803|2018-04-18T16:51:...|\n",
      "|          Paducah|         17|Example Bank|  1234546360|          KY|    Railroad Street|     42001|2018-04-18T16:51:...|\n",
      "|     Harleysville|         18|Example Bank|  1234824455|          PA|Church Street South|     19438|2018-04-18T16:51:...|\n",
      "|     SilverSpring|         19|Example Bank|  1234484380|          MD|        King Street|     20901|2018-04-18T16:51:...|\n",
      "|       Burnsville|         20|Example Bank|  1234840138|          MN|   Canterbury Drive|     55337|2018-04-18T16:51:...|\n",
      "|           Tacoma|         21|Example Bank|  1234362433|          WA|         2nd Avenue|     98444|2018-04-18T16:51:...|\n",
      "|         Carlisle|         22|Example Bank|  1234922492|          PA| Front Street South|     17013|2018-04-18T16:51:...|\n",
      "+-----------------+-----------+------------+------------+------------+-------------------+----------+--------------------+\n",
      "only showing top 20 rows\n",
      "\n"
     ]
    }
   ],
   "source": [
    "branch.show()"
   ]
  },
  {
   "cell_type": "code",
   "execution_count": 56,
   "metadata": {},
   "outputs": [
    {
     "data": {
      "text/plain": [
       "DataFrame[BRANCH_CITY: string, BRANCH_CODE: int, BRANCH_NAME: string, BRANCH_PHONE: string, BRANCH_STATE: string, BRANCH_STREET: string, BRANCH_ZIP: int, LAST_UPDATED: timestamp]"
      ]
     },
     "execution_count": 56,
     "metadata": {},
     "output_type": "execute_result"
    }
   ],
   "source": [
    "# BRANCH_ZIP\tIf the source value is null load default (99999) value else Direct move\n",
    "# BRANCH_PHONE\tChange the format of phone number to (XXX)XXX-XXXX\n",
    "\n",
    "# BRANCH_ZIP\tINT\n",
    "# BRANCH_NAME\tVARCHAR\n",
    "# BRANCH_STREET\tVARCHAR\n",
    "# BRANCH_CITY\tVARCHAR\n",
    "# BRANCH_STATE\tVARCHAR\n",
    "# BRANCH_CODE\tINT\n",
    "# LAST_UPDATED\tTIMESTAMP\n",
    "# BRANCH_PHONE\tVARCHAR\n",
    "\n",
    "branch_df = branch \\\n",
    "            .withColumn(\"BRANCH_CODE\",\n",
    "                        branch[\"BRANCH_CODE\"].cast(IntegerType())) \\\n",
    "            .withColumn(\"BRANCH_ZIP\",\n",
    "                        branch[\"BRANCH_ZIP\"].cast(IntegerType())) \\\n",
    "            .withColumn(\"LAST_UPDATED\",\n",
    "                        branch[\"LAST_UPDATED\"].cast(TimestampType())) \\\n",
    "            .withColumn(\"BRANCH_PHONE\",\n",
    "                        format_string(\"(%s)%s-%s\", substring(\"BRANCH_PHONE\", 1, 3), substring(\"BRANCH_PHONE\", 4, 3), substring(\"BRANCH_PHONE\", 7, 4)))\n",
    "branch_df.na.fill(value=99999, subset=[\"BRANCH_ZIP\"])\n"
   ]
  },
  {
   "cell_type": "code",
   "execution_count": 57,
   "metadata": {},
   "outputs": [
    {
     "name": "stdout",
     "output_type": "stream",
     "text": [
      "+-----------------+-----------+------------+-------------+------------+-----------------+----------+-------------------+\n",
      "|      BRANCH_CITY|BRANCH_CODE| BRANCH_NAME| BRANCH_PHONE|BRANCH_STATE|    BRANCH_STREET|BRANCH_ZIP|       LAST_UPDATED|\n",
      "+-----------------+-----------+------------+-------------+------------+-----------------+----------+-------------------+\n",
      "|        Lakeville|          1|Example Bank|(123)456-5276|          MN|     Bridle Court|     55044|2018-04-18 13:51:47|\n",
      "|          Huntley|          2|Example Bank|(123)461-8993|          IL|Washington Street|     60142|2018-04-18 13:51:47|\n",
      "|SouthRichmondHill|          3|Example Bank|(123)498-5926|          NY|    Warren Street|     11419|2018-04-18 13:51:47|\n",
      "+-----------------+-----------+------------+-------------+------------+-----------------+----------+-------------------+\n",
      "only showing top 3 rows\n",
      "\n"
     ]
    }
   ],
   "source": [
    "branch_df.show(3)"
   ]
  },
  {
   "cell_type": "code",
   "execution_count": 58,
   "metadata": {},
   "outputs": [
    {
     "name": "stdout",
     "output_type": "stream",
     "text": [
      "root\n",
      " |-- BRANCH_CITY: string (nullable = true)\n",
      " |-- BRANCH_CODE: integer (nullable = true)\n",
      " |-- BRANCH_NAME: string (nullable = true)\n",
      " |-- BRANCH_PHONE: string (nullable = false)\n",
      " |-- BRANCH_STATE: string (nullable = true)\n",
      " |-- BRANCH_STREET: string (nullable = true)\n",
      " |-- BRANCH_ZIP: integer (nullable = true)\n",
      " |-- LAST_UPDATED: timestamp (nullable = true)\n",
      "\n"
     ]
    }
   ],
   "source": [
    "branch_df.printSchema()"
   ]
  },
  {
   "cell_type": "code",
   "execution_count": 59,
   "metadata": {},
   "outputs": [
    {
     "name": "stdout",
     "output_type": "stream",
     "text": [
      "+-----------+----------------+---------+---+-----+--------------+----------------+-----------------+----+\n",
      "|BRANCH_CODE|  CREDIT_CARD_NO| CUST_SSN|DAY|MONTH|TRANSACTION_ID|TRANSACTION_TYPE|TRANSACTION_VALUE|YEAR|\n",
      "+-----------+----------------+---------+---+-----+--------------+----------------+-----------------+----+\n",
      "|        114|4210653349028689|123459988| 14|    2|             1|       Education|             78.9|2018|\n",
      "|         35|4210653349028689|123459988| 20|    3|             2|   Entertainment|            14.24|2018|\n",
      "|        160|4210653349028689|123459988|  8|    7|             3|         Grocery|             56.7|2018|\n",
      "+-----------+----------------+---------+---+-----+--------------+----------------+-----------------+----+\n",
      "only showing top 3 rows\n",
      "\n"
     ]
    }
   ],
   "source": [
    "credit.show(3)"
   ]
  },
  {
   "cell_type": "code",
   "execution_count": 60,
   "metadata": {},
   "outputs": [
    {
     "name": "stdout",
     "output_type": "stream",
     "text": [
      "root\n",
      " |-- BRANCH_CODE: long (nullable = true)\n",
      " |-- CREDIT_CARD_NO: string (nullable = true)\n",
      " |-- CUST_SSN: long (nullable = true)\n",
      " |-- DAY: long (nullable = true)\n",
      " |-- MONTH: long (nullable = true)\n",
      " |-- TRANSACTION_ID: long (nullable = true)\n",
      " |-- TRANSACTION_TYPE: string (nullable = true)\n",
      " |-- TRANSACTION_VALUE: double (nullable = true)\n",
      " |-- YEAR: long (nullable = true)\n",
      "\n"
     ]
    }
   ],
   "source": [
    "credit.printSchema()"
   ]
  },
  {
   "cell_type": "code",
   "execution_count": 61,
   "metadata": {},
   "outputs": [],
   "source": [
    "# CUST_CC_NO\tVARCHAR +\n",
    "# CUST_SSN\tINT +\n",
    "# BRANCH_CODE\tINT +\n",
    "# TRANSACTION_TYPE\tVARCHAR\n",
    "# TRANSACTION_VALUE\tDOUBLE +\n",
    "# TRANSACTION_ID\tINT +\n",
    "\n",
    "# CREDIT_CARD_NO to CUST_CC_NO +\n",
    "\n",
    "from pyspark.sql.types import DoubleType\n",
    "\n",
    "credit_df = credit \\\n",
    "            .withColumn(\"CUST_CC_NO\",\n",
    "                        credit[\"CREDIT_CARD_NO\"]) \\\n",
    "            .withColumn(\"CUST_SSN\",\n",
    "                        credit[\"CUST_SSN\"].cast(IntegerType())) \\\n",
    "            .withColumn(\"DAY\",\n",
    "                        credit[\"DAY\"].cast(StringType())) \\\n",
    "            .withColumn(\"MONTH\",\n",
    "                        credit[\"MONTH\"].cast(StringType())) \\\n",
    "            .withColumn(\"YEAR\",\n",
    "                        credit[\"YEAR\"].cast(StringType())) \\\n",
    "            .withColumn(\"BRANCH_CODE\",\n",
    "                        credit[\"BRANCH_CODE\"].cast(IntegerType())) \\\n",
    "            .withColumn(\"TRANSACTION_ID\",\n",
    "                        credit[\"TRANSACTION_ID\"].cast(IntegerType())) \\\n",
    "            .withColumn(\"TRANSACTION_VALUE\",\n",
    "                        credit[\"TRANSACTION_VALUE\"].cast(DoubleType()))\n"
   ]
  },
  {
   "cell_type": "code",
   "execution_count": 62,
   "metadata": {},
   "outputs": [
    {
     "name": "stdout",
     "output_type": "stream",
     "text": [
      "+-----------+----------------+---------+---+-----+--------------+----------------+-----------------+----+----------------+\n",
      "|BRANCH_CODE|  CREDIT_CARD_NO| CUST_SSN|DAY|MONTH|TRANSACTION_ID|TRANSACTION_TYPE|TRANSACTION_VALUE|YEAR|      CUST_CC_NO|\n",
      "+-----------+----------------+---------+---+-----+--------------+----------------+-----------------+----+----------------+\n",
      "|        114|4210653349028689|123459988| 14|    2|             1|       Education|             78.9|2018|4210653349028689|\n",
      "|         35|4210653349028689|123459988| 20|    3|             2|   Entertainment|            14.24|2018|4210653349028689|\n",
      "|        160|4210653349028689|123459988|  8|    7|             3|         Grocery|             56.7|2018|4210653349028689|\n",
      "+-----------+----------------+---------+---+-----+--------------+----------------+-----------------+----+----------------+\n",
      "only showing top 3 rows\n",
      "\n"
     ]
    }
   ],
   "source": [
    "credit_df.show(3)"
   ]
  },
  {
   "cell_type": "code",
   "execution_count": 63,
   "metadata": {},
   "outputs": [],
   "source": [
    "# DAY, MONTH, YEAR\tConvert DAY, MONTH, and YEAR into a TIMEID (YYYYMMDD\n",
    "# TIMEID \tVARCHAR\n",
    "\n",
    "# lpad - df.select(lpad(df.s, 6, '#').alias('s')).collect()\n",
    "# [Row(s='##abcd')]\n",
    "\n",
    "credit_df = credit_df \\\n",
    "            .withColumn(\"DAY\",\n",
    "                        lpad(credit_df[\"DAY\"], 2, \"0\")) \\\n",
    "            .withColumn(\"MONTH\",\n",
    "                        lpad(credit_df[\"MONTH\"], 2, \"0\"))\n",
    "\n",
    "credit_df = credit_df.withColumn(\"TIMEID\", concat(credit_df['YEAR'], credit_df['MONTH'], credit_df['DAY']))\n",
    "    "
   ]
  },
  {
   "cell_type": "code",
   "execution_count": 64,
   "metadata": {},
   "outputs": [
    {
     "name": "stdout",
     "output_type": "stream",
     "text": [
      "+-----------+----------------+---------+---+-----+--------------+----------------+-----------------+----+----------------+--------+\n",
      "|BRANCH_CODE|  CREDIT_CARD_NO| CUST_SSN|DAY|MONTH|TRANSACTION_ID|TRANSACTION_TYPE|TRANSACTION_VALUE|YEAR|      CUST_CC_NO|  TIMEID|\n",
      "+-----------+----------------+---------+---+-----+--------------+----------------+-----------------+----+----------------+--------+\n",
      "|        114|4210653349028689|123459988| 14|   02|             1|       Education|             78.9|2018|4210653349028689|20180214|\n",
      "|         35|4210653349028689|123459988| 20|   03|             2|   Entertainment|            14.24|2018|4210653349028689|20180320|\n",
      "+-----------+----------------+---------+---+-----+--------------+----------------+-----------------+----+----------------+--------+\n",
      "only showing top 2 rows\n",
      "\n"
     ]
    }
   ],
   "source": [
    "credit_df.show(2)"
   ]
  },
  {
   "cell_type": "code",
   "execution_count": 65,
   "metadata": {},
   "outputs": [],
   "source": [
    "columns_to_drop = ['CREDIT_CARD_NO']\n",
    "credit_df = credit_df.drop(*columns_to_drop)\n",
    "credit_df = credit_df.withColumn(\"TIMEID\", credit_df[\"TIMEID\"].cast(StringType()))\n"
   ]
  },
  {
   "cell_type": "code",
   "execution_count": 66,
   "metadata": {},
   "outputs": [
    {
     "name": "stdout",
     "output_type": "stream",
     "text": [
      "+-----------+---------+---+-----+--------------+----------------+-----------------+----+----------------+--------+\n",
      "|BRANCH_CODE| CUST_SSN|DAY|MONTH|TRANSACTION_ID|TRANSACTION_TYPE|TRANSACTION_VALUE|YEAR|      CUST_CC_NO|  TIMEID|\n",
      "+-----------+---------+---+-----+--------------+----------------+-----------------+----+----------------+--------+\n",
      "|        114|123459988| 14|   02|             1|       Education|             78.9|2018|4210653349028689|20180214|\n",
      "|         35|123459988| 20|   03|             2|   Entertainment|            14.24|2018|4210653349028689|20180320|\n",
      "+-----------+---------+---+-----+--------------+----------------+-----------------+----+----------------+--------+\n",
      "only showing top 2 rows\n",
      "\n"
     ]
    }
   ],
   "source": [
    "credit_df.show(2)"
   ]
  },
  {
   "cell_type": "code",
   "execution_count": 67,
   "metadata": {},
   "outputs": [
    {
     "name": "stdout",
     "output_type": "stream",
     "text": [
      "root\n",
      " |-- BRANCH_CODE: integer (nullable = true)\n",
      " |-- CUST_SSN: integer (nullable = true)\n",
      " |-- DAY: string (nullable = true)\n",
      " |-- MONTH: string (nullable = true)\n",
      " |-- TRANSACTION_ID: integer (nullable = true)\n",
      " |-- TRANSACTION_TYPE: string (nullable = true)\n",
      " |-- TRANSACTION_VALUE: double (nullable = true)\n",
      " |-- YEAR: string (nullable = true)\n",
      " |-- CUST_CC_NO: string (nullable = true)\n",
      " |-- TIMEID: string (nullable = true)\n",
      "\n"
     ]
    }
   ],
   "source": [
    "credit_df.printSchema()"
   ]
  },
  {
   "cell_type": "code",
   "execution_count": null,
   "metadata": {},
   "outputs": [],
   "source": [
    "import os \n",
    "file_path = \"./secret.yaml\"  # Replace with the actual path\n",
    "\n",
    "# Read the file and extract credentials\n",
    "credentials = {}\n",
    "with open(file_path, 'r') as file:\n",
    "    for line in file:\n",
    "        key, value = line.strip().split(': ')\n",
    "        credentials[key] = value\n",
    "\n",
    "# Access the credentials\n",
    "mypass = credentials.get('MYPASS')\n",
    "mylogin = credentials.get('MYLOGIN')"
   ]
  },
  {
   "cell_type": "code",
   "execution_count": 92,
   "metadata": {},
   "outputs": [],
   "source": [
    "# creditcard_capstone database\n",
    "import mysql.connector\n",
    "\n",
    "db_connection = mysql.connector.connect(user=mylogin, password=mypass)\n",
    "db_cursor = db_connection.cursor()\n",
    "\n",
    "db_cursor.execute(\"CREATE DATABASE IF NOT EXISTS creditcard_capstone;\")\n",
    "\n",
    "db_cursor.execute(\"USE creditcard_capstone;\")"
   ]
  },
  {
   "cell_type": "code",
   "execution_count": null,
   "metadata": {},
   "outputs": [
    {
     "name": "stderr",
     "output_type": "stream",
     "text": [
      "Loading class `com.mysql.jdbc.Driver'. This is deprecated. The new driver class is `com.mysql.cj.jdbc.Driver'. The driver is automatically registered via the SPI and manual loading of the driver class is generally unnecessary.\n",
      "                                                                                \r"
     ]
    }
   ],
   "source": [
    "# Set the JDBC URL and table name\n",
    "url='jdbc:mysql://localhost:3306/creditcard_capstone'\n",
    "\n",
    "# Path to your MySQL JDBC connector JAR\n",
    "mysql_jar_path = \"/Users/iris/Downloads/mysql-connector-java-8.0.23.jar\"\n",
    "\n",
    "# Set the properties including user and password\n",
    "properties = {\n",
    "    \"user\": mylogin,\n",
    "    \"password\": mypass,\n",
    "    \"driver\": \"com.mysql.jdbc.Driver\"\n",
    "}\n",
    "\n",
    "# Write DataFrame to MySQL\n",
    "branch_df.write.jdbc(url=url, table=\"CDW_SAPP_BRANCH\", mode=\"overwrite\", properties=properties)\n",
    "credit_df.write.jdbc(url = url, table=\"CDW_SAPP_CREDIT_CARD\", mode=\"overwrite\", properties=properties)\n",
    "customer_df.write.jdbc(url = url, table=\"CDW_SAPP_CUSTOMER\", mode=\"overwrite\", properties=properties)"
   ]
  },
  {
   "cell_type": "code",
   "execution_count": null,
   "metadata": {},
   "outputs": [],
   "source": [
    "spark.stop()"
   ]
  },
  {
   "cell_type": "code",
   "execution_count": null,
   "metadata": {},
   "outputs": [],
   "source": [
    "# Find the Spark Installation Directory:\n",
    "# If you installed Apache Spark using a package manager or manually, you need to locate the installation directory. It's commonly found in /usr/local/spark.\n",
    "\n",
    "# Navigate to the jars Directory:\n",
    "# Inside the Spark installation directory, you'll find a directory named jars. Navigate to this directory.\n",
    "\n",
    "# Place the JDBC Connector JAR File:\n",
    "# Copy the MySQL JDBC connector JAR file (e.g., mysql-connector-java-x.y.z.jar) into this jars directory.\n",
    "\n",
    "# Restart Spark Application:\n",
    "# If you have a running Spark application, stop and restart it to apply the changes."
   ]
  },
  {
   "cell_type": "code",
   "execution_count": null,
   "metadata": {},
   "outputs": [],
   "source": [
    "# DataFrame Transformations: select() filter() groupby() orderBy() dropDuplicates() withColumnRenamed()\n",
    "# sort as transformation: sortedDF = originalDF.sort(\"column_name\")\n",
    "\n",
    "# DataFrame Actions: printSchema() show() count() columns() describe()\n",
    "# sort as action: originalDF.sort(\"column_name\").show()"
   ]
  },
  {
   "cell_type": "code",
   "execution_count": 31,
   "metadata": {},
   "outputs": [],
   "source": [
    "# os.environ['MYSQL_User'] = 'root'\n",
    "# os.environ['MYSQL_Password'] = 'root'\n",
    "# os.environ['MYSQL_Driver'] = 'com.mysql.jdbc.Driver'"
   ]
  },
  {
   "cell_type": "code",
   "execution_count": 32,
   "metadata": {},
   "outputs": [],
   "source": [
    "# import os\n",
    "# # Set the properties including user and password\n",
    "# properties = {\n",
    "#     \"user\": os.getenv('MYSQL_User'),\n",
    "#     \"password\": os.getenv('MYSQL_Password'),\n",
    "#     \"driver\": os.getenv('MYSQL_Driver')\n",
    "# }"
   ]
  },
  {
   "cell_type": "markdown",
   "metadata": {},
   "source": []
  },
  {
   "cell_type": "code",
   "execution_count": null,
   "metadata": {},
   "outputs": [],
   "source": []
  }
 ],
 "metadata": {
  "kernelspec": {
   "display_name": "MISY350",
   "language": "python",
   "name": "python3"
  },
  "language_info": {
   "codemirror_mode": {
    "name": "ipython",
    "version": 3
   },
   "file_extension": ".py",
   "mimetype": "text/x-python",
   "name": "python",
   "nbconvert_exporter": "python",
   "pygments_lexer": "ipython3",
   "version": "3.9.17"
  },
  "orig_nbformat": 4
 },
 "nbformat": 4,
 "nbformat_minor": 2
}
